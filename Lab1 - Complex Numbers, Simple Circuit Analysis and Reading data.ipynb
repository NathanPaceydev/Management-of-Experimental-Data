{
 "cells": [
  {
   "cell_type": "markdown",
   "metadata": {},
   "source": [
    "====================================\n",
   ]
  },
  {
   "cell_type": "markdown",
   "metadata": {},
   "source": [
    "-------------------------"
   ]
  },
  {
   "cell_type": "code",
   "execution_count": 1,
   "metadata": {},
   "outputs": [],
   "source": [
    "#import libraries\n",
    "import math as m\n",
    "import numpy as np\n",
    "import cmath as cm\n",
    "from matplotlib import pyplot as plt"
   ]
  },
  {
   "cell_type": "markdown",
   "metadata": {},
   "source": [
    "Q1)\n",
    "---\n",
    "Defining variables for complex numbers 1+j and 2-j, as well as for their sum and product, and determine magnitude, phase, real part and imaginary part, and conjugate of each."
   ]
  },
  {
   "cell_type": "code",
   "execution_count": 2,
   "metadata": {},
   "outputs": [
    {
     "name": "stdout",
     "output_type": "stream",
     "text": [
      "Complex numbers: (1+1j) , (2-1j)\n",
      "\n",
      "Sume of complex numbers: (3+0j)\n",
      "\n",
      "Product of complex numbers: (3+1j)\n",
      "\n",
      "Magnitude of complex numbers: 1.4142135623730951 and 2.23606797749979\n",
      "\n",
      "Phase of numbers 0.7853981633974483 and -0.4636476090008061\n",
      "\n",
      "Real part of (1+1j) : 1.0 imaginary part: 1.0\n",
      "Real part of (2-1j) : 2.0 imaginary part: -1.0\n",
      "\n",
      "Conjugate of (1+1j) : (1-1j)\n",
      "Conjugate of (2-1j) : (2+1j)\n"
     ]
    }
   ],
   "source": [
    "# I added print statements to check the answers\n",
    "# Define variables for complex numbers\n",
    "var1 = 1+1j\n",
    "var2 = 2-1j\n",
    "print(\"Complex numbers:\",var1,\",\",var2)\n",
    "\n",
    "# Sum of variables\n",
    "sum = var1 + var2\n",
    "print(\"\\nSume of complex numbers:\",sum)\n",
    "\n",
    "#product of variables\n",
    "prod = var1*var2\n",
    "print(\"\\nProduct of complex numbers:\",prod)\n",
    "\n",
    "# magnitude\n",
    "mag1 = abs(var1)\n",
    "mag2 = abs(var2)\n",
    "print(\"\\nMagnitude of complex numbers:\", mag1,\"and\",mag2)\n",
    "\n",
    "# Phase\n",
    "phase1 = cm.phase(var1)\n",
    "phase2 = cm.phase(var2)\n",
    "print(\"\\nPhase of numbers\",phase1,\"and\",phase2)\n",
    "\n",
    "# Real and Imaginary\n",
    "real1 = var1.real\n",
    "imag1 = var1.imag\n",
    "print(\"\\nReal part of\",var1,\":\",real1,\"imaginary part:\",imag1)\n",
    "\n",
    "real2 = var2.real\n",
    "imag2 = var2.imag\n",
    "print(\"Real part of\",var2,\":\",real2,\"imaginary part:\",imag2)\n",
    "\n",
    "# Conjugates\n",
    "conj1 = var1.conjugate()\n",
    "conj2 = var2.conjugate()\n",
    "print(\"\\nConjugate of\",var1,\":\",conj1)\n",
    "print(\"Conjugate of\",var2,\":\",conj2)"
   ]
  },
  {
   "cell_type": "markdown",
   "metadata": {},
   "source": [
    "Q2)\n",
    "---\n",
    "Printing the results from the previous block, including headers, using a loop, to make it easy to read."
   ]
  },
  {
   "cell_type": "code",
   "execution_count": 3,
   "metadata": {},
   "outputs": [
    {
     "name": "stdout",
     "output_type": "stream",
     "text": [
      "\n",
      " Complex Numbers\n",
      "\n",
      " (1+1j)\n",
      "\n",
      " (2-1j)\n",
      "\n",
      " Sum of Complex Numbers\n",
      "\n",
      " (3+0j)\n",
      "\n",
      " Product of (1+j) * (2-j)\n",
      "\n",
      " (3+1j)\n",
      "\n",
      " Magnitude of (1+j) and (2-j)\n",
      "\n",
      " 1.4142135623730951\n",
      "\n",
      " 2.23606797749979\n",
      "\n",
      " Phase of (1+j) and (2-j):\n",
      "\n",
      " 0.7853981633974483\n",
      "\n",
      " -0.4636476090008061\n",
      "\n",
      " Real and imaginary parts\n",
      "\n",
      " (1+1j)\n",
      "\n",
      " 1.0\n",
      "\n",
      " 1.0\n",
      "\n",
      " (2-1j)\n",
      "\n",
      " 2.0\n",
      "\n",
      " -1.0\n",
      "\n",
      " Conjugates of (1+j) and (2-j)\n",
      "\n",
      " (1-1j)\n",
      "\n",
      " (2+1j)\n"
     ]
    }
   ],
   "source": [
    "#creating an array of values and headers from Block 1\n",
    "arraylist = [\"Complex Numbers\", var1, var2, \"Sum of Complex Numbers\", sum, \"Product of (1+j) * (2-j)\",prod,\"Magnitude of (1+j) and (2-j)\",mag1,mag2,\"Phase of (1+j) and (2-j):\",phase1,phase2,\"Real and imaginary parts\",var1,real1,imag1,var2,real2,imag2,\"Conjugates of (1+j) and (2-j)\",conj1,conj2]\n",
    "\n",
    "# iterate through the list using a for loop\n",
    "for i in range(len(arraylist)):\n",
    "    print(\"\\n\",arraylist[i]) #print the list out"
   ]
  },
  {
   "cell_type": "markdown",
   "metadata": {},
   "source": [
    ")\n",
    "---\n",
    "Defining a function that takes two complex impedances as variables, and returns a dictionnary with the parallel and series impedances"
   ]
  },
  {
   "cell_type": "code",
   "execution_count": 12,
   "metadata": {},
   "outputs": [
    {
     "name": "stdout",
     "output_type": "stream",
     "text": [
      "{'Parallel': (1+0.3333333333333333j), 'Series': (3+0j)}\n"
     ]
    }
   ],
   "source": [
    "# using the complex from Block 1\n",
    "\n",
    "#function that calculates the impedances and returns a dictionnary\n",
    "def imp_Func(z1,z2):\n",
    "    parallel = z1*z2/(z1+z2) # equation for parallel impedances\n",
    "    series = z1 + z2 # eqn for series impedances\n",
    "    dictionnary = {'Parallel':parallel, 'Series':series} # dictionnary for impendances\n",
    "    return dictionnary\n",
    "\n",
    "print(imp_Func(var1,var2)) #calling the func passing var1 and var2"
   ]
  },
  {
   "cell_type": "markdown",
   "metadata": {},
   "source": [
    "Block 4)\n",
    "---\n",
    "Ploting (as a function of angular frequency), the magnitude and the phase of the impedance resulting from a resistor (1 kOhm) and inductor (1 mF) in series.  Use a logarithmic axis for the frequency, and for the magnitude."
   ]
  },
  {
   "cell_type": "code",
   "execution_count": 5,
   "metadata": {},
   "outputs": [],
   "source": [
    "# Note, range [10,10**10] rad/s for the angular freq\n",
    "# The impedance of an inductor L is 𝐿𝑗𝜔; when in series, impedances sum (when in parallel, inverse of sum of inverses).\n",
    "\n",
    "#initializing given values\n",
    "res = 1*10**3\n",
    "induct = 1*10**-3\n",
    "\n",
    "# Using the log mapping of points for ang freq\n",
    "ang_freq = np.logspace(1,10) # assign number of points between the range\n",
    "\n",
    "NumPoints = np.size(ang_freq) # setting size to number of points\n",
    "\n",
    "impedance = res + induct*1j*ang_freq # series impedance calc\n",
    "\n",
    "# magnitude of series impedance\n",
    "mag_imp = abs(impedance)\n",
    "\n",
    "#phase of impedance\n",
    "phase = np.ones(len(ang_freq)) # first set to an array of ones\n",
    "# need a loop to set the phase of impendance points\n",
    "for i in range(len(ang_freq)):\n",
    "    phase[i] *= cm.phase(impedance[i])\n",
    "    "
   ]
  },
  {
   "cell_type": "code",
   "execution_count": 6,
   "metadata": {},
   "outputs": [
    {
     "data": {
      "image/png": "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\n",
      "text/plain": [
       "<Figure size 432x288 with 1 Axes>"
      ]
     },
     "metadata": {
      "needs_background": "light"
     },
     "output_type": "display_data"
    },
    {
     "data": {
      "image/png": "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\n",
      "text/plain": [
       "<Figure size 432x288 with 1 Axes>"
      ]
     },
     "metadata": {
      "needs_background": "light"
     },
     "output_type": "display_data"
    }
   ],
   "source": [
    "#using the matplotlib library to plot the data\n",
    "#Plotting Angular Frequency and Phase\n",
    "plt.plot(ang_freq,phase)\n",
    "#axis labels and title\n",
    "plt.xlabel(\"Angular Frequency\")\n",
    "plt.ylabel(\"Phase\")\n",
    "plt.title(\"Plotting Phase vs Angular Frequency\")\n",
    "plt.xscale('log') # setting ang freq to log scale\n",
    "plt.show()\n",
    "\n",
    "#Plotting Magnitude and Ang Freq\n",
    "plt.plot(ang_freq,mag_imp)\n",
    "#axis headings\n",
    "plt.xlabel(\"Angular Frequency\")\n",
    "plt.ylabel(\"Magnitude\")\n",
    "plt.title(\"Plotting Magnitude vs Angular Frequency\")\n",
    "\n",
    "#setting both axis to log scale\n",
    "plt.xscale('log') \n",
    "plt.yscale('log') \n",
    "plt.show()"
   ]
  },
  {
   "cell_type": "markdown",
   "metadata": {},
   "source": [
    "Block 5)\n",
    "---\n",
    "Reading text file Data_01.txt.  Ploting second column (height, in m), vs first (time, in s).  Labeling axes, and add a title.  "
   ]
  },
  {
   "cell_type": "code",
   "execution_count": 7,
   "metadata": {},
   "outputs": [],
   "source": [
    "#reading the file\n",
    "data = np.loadtxt(\"Data_01.txt\") #sets data to the files array\n",
    "\n",
    "# seperating the array of data into height and time\n",
    "height = data[:,1]\n",
    "time = data[:,0]\n"
   ]
  },
  {
   "cell_type": "code",
   "execution_count": 8,
   "metadata": {},
   "outputs": [
    {
     "data": {
      "text/plain": [
       "Text(0.5, 1.0, 'Height vs Time Plot')"
      ]
     },
     "execution_count": 8,
     "metadata": {},
     "output_type": "execute_result"
    },
    {
     "data": {
      "image/png": "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\n",
      "text/plain": [
       "<Figure size 432x288 with 1 Axes>"
      ]
     },
     "metadata": {
      "needs_background": "light"
     },
     "output_type": "display_data"
    }
   ],
   "source": [
    "#using the matplotlib library to plot the data\n",
    "plt.plot(time,height)\n",
    "\n",
    "#adding axis labels and a title\n",
    "plt.xlabel(\"Time [s]\")\n",
    "plt.ylabel(\"Height [m]\")\n",
    "plt.title(\"Height vs Time Plot\")"
   ]
  },
  {
   "cell_type": "markdown",
   "metadata": {},
   "source": [
    "Block 6)\n",
    "---\n",
    "Plotting distribution of third column (height, in m) minus second column, with labels and title."
   ]
  },
  {
   "cell_type": "code",
   "execution_count": 9,
   "metadata": {},
   "outputs": [],
   "source": [
    "# need to assign the third column of data to a var\n",
    "height2 = data[:,2]\n",
    "\n",
    "#difference in heights\n",
    "diff_heights = height2 - height"
   ]
  },
  {
   "cell_type": "code",
   "execution_count": 10,
   "metadata": {},
   "outputs": [
    {
     "data": {
      "text/plain": [
       "Text(0.5, 1.0, 'Difference in Height vs Time Plot')"
      ]
     },
     "execution_count": 10,
     "metadata": {},
     "output_type": "execute_result"
    },
    {
     "data": {
      "image/png": "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\n",
      "text/plain": [
       "<Figure size 432x288 with 1 Axes>"
      ]
     },
     "metadata": {
      "needs_background": "light"
     },
     "output_type": "display_data"
    }
   ],
   "source": [
    "#using the matplotlib library to plot the data\n",
    "# *****I decided to include the plot of data as well, this is not asked in the question******\n",
    "plt.plot(time,diff_heights)\n",
    "\n",
    "#adding axis labels and a title\n",
    "plt.xlabel(\"Time [s]\")\n",
    "plt.ylabel(\"Difference in Height [m]\")\n",
    "plt.title(\"Difference in Height vs Time Plot\")"
   ]
  },
  {
   "cell_type": "code",
   "execution_count": 11,
   "metadata": {},
   "outputs": [
    {
     "data": {
      "text/plain": [
       "Text(0.5, 1.0, 'Difference in Height Distribution')"
      ]
     },
     "execution_count": 11,
     "metadata": {},
     "output_type": "execute_result"
    },
    {
     "data": {
      "image/png": "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\n",
      "text/plain": [
       "<Figure size 432x288 with 1 Axes>"
      ]
     },
     "metadata": {
      "needs_background": "light"
     },
     "output_type": "display_data"
    }
   ],
   "source": [
    "# ****Now plotting the distribution*****\n",
    "\n",
    "#Number of bins\n",
    "bins = 200\n",
    "\n",
    "#plotting the distribution of heights differences\n",
    "plt.hist(diff_heights, bins)\n",
    "#adding labels and a title\n",
    "plt.xlabel('Height Difference [m]')\n",
    "plt.ylabel('Counts per bin')\n",
    "plt.title(\"Difference in Height Distribution\")"
   ]
  },
  {
   "cell_type": "markdown",
   "metadata": {},
   "source": [
    "This distribution of points displays normal / gaussian distribution (around 0 [m] in height difference)."
   ]
  }
 ],
 "metadata": {
  "kernelspec": {
   "display_name": "Python 3",
   "language": "python",
   "name": "python3"
  },
  "language_info": {
   "codemirror_mode": {
    "name": "ipython",
    "version": 3
   },
   "file_extension": ".py",
   "mimetype": "text/x-python",
   "name": "python",
   "nbconvert_exporter": "python",
   "pygments_lexer": "ipython3",
   "version": "3.7.6"
  }
 },
 "nbformat": 4,
 "nbformat_minor": 4
}
