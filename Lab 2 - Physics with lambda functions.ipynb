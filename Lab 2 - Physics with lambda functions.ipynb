{
 "cells": [
  {
   "cell_type": "markdown",
   "metadata": {},
   "source": [
    "## Physics and Mathematics Questions Solved with Python"
   ]
  },
  {
   "cell_type": "code",
   "execution_count": 1,
   "metadata": {},
   "outputs": [],
   "source": [
    "#import the python libraries\n",
    "import numpy as np\n",
    "import sympy as sym\n",
    "import statistics as stats\n",
    "import matplotlib.pyplot as plt \n",
    "from scipy.stats import norm, uniform\n",
    "from matplotlib import pyplot as plt\n",
    "%matplotlib inline"
   ]
  },
  {
   "cell_type": "markdown",
   "metadata": {},
   "source": [
    "Q1) (40 pts) Error propagation: In special relativity, the kinetic energy of a particle of mass $m=(2 \\pm 0.1) 10^{-27} \\mbox{ kg}$ going at speed $\\beta = v/c = 0.7 \\pm 0.05$ is $K = \\left( \\frac{1}{\\sqrt{1-\\beta^2}} -1 \\right) m c^2$.  Using the sympy library, determine $K$, its error, and its relative error, in SI units, for $c=3\\times 10^8 \\mbox{ m/s}$.  Display all steps clearly.\n",
    "--"
   ]
  },
  {
   "cell_type": "code",
   "execution_count": 2,
   "metadata": {},
   "outputs": [],
   "source": [
    "# declare the sysbols to show the steps\n",
    "Beta = sym.symbols(r'\\beta')\n",
    "m = sym.symbols(r'm')\n",
    "c = sym.symbols(r'c')\n",
    "sigB = sym.symbols(r'\\sigma_b') #use sigma to indicate the uncertainty in variable\n",
    "sigM = sym.symbols(r'\\sigma_m')\n",
    "\n"
   ]
  },
  {
   "cell_type": "code",
   "execution_count": 3,
   "metadata": {},
   "outputs": [
    {
     "name": "stdout",
     "output_type": "stream",
     "text": [
      "The Equation for Kinetic Energy in special relativity\n",
      "\n"
     ]
    },
    {
     "data": {
      "text/latex": [
       "$\\displaystyle c^{2} m \\left(-1 + \\frac{1}{\\sqrt{1 - \\beta^{2}}}\\right)$"
      ],
      "text/plain": [
       "c**2*m*(-1 + 1/sqrt(1 - \\beta**2))"
      ]
     },
     "execution_count": 3,
     "metadata": {},
     "output_type": "execute_result"
    }
   ],
   "source": [
    "#Create a function for K\n",
    "def K(B,m,c):\n",
    "    K = m*c**2*(- 1+1/sym.sqrt(1 - B**2)) # use the given equation\n",
    "    return K\n",
    "\n",
    "print(\"The Equation for Kinetic Energy in special relativity\\n\")\n",
    "K(Beta,m,c) #output the equation\n"
   ]
  },
  {
   "cell_type": "code",
   "execution_count": 4,
   "metadata": {},
   "outputs": [
    {
     "name": "stdout",
     "output_type": "stream",
     "text": [
      "The Derivative of Equation for Kinetic Energy in special relativity with respect to Velocity\n",
      "\n"
     ]
    },
    {
     "data": {
      "text/latex": [
       "$\\displaystyle \\frac{\\beta c^{2} m}{\\left(1 - \\beta^{2}\\right)^{\\frac{3}{2}}}$"
      ],
      "text/plain": [
       "\\beta*c**2*m/(1 - \\beta**2)**(3/2)"
      ]
     },
     "execution_count": 4,
     "metadata": {},
     "output_type": "execute_result"
    }
   ],
   "source": [
    "# now need a derivative function of K with respect to v\n",
    "def dervK_V(b,m,c):\n",
    "    Keqn = K(b,m,c)# call the K function with values\n",
    "    dK_dv = sym.diff(Keqn,b) #derv wrt v\n",
    "    return dK_dv\n",
    "\n",
    "print(\"The Derivative of Equation for Kinetic Energy in special relativity with respect to Velocity\\n\")\n",
    "dervK_V(Beta,m,c) #output the derivative wrt v eqn\n"
   ]
  },
  {
   "cell_type": "code",
   "execution_count": 5,
   "metadata": {},
   "outputs": [
    {
     "name": "stdout",
     "output_type": "stream",
     "text": [
      "The Derivative of Equation for Kinetic Energy in special relativity with respect to Mass\n",
      "\n"
     ]
    },
    {
     "data": {
      "text/latex": [
       "$\\displaystyle c^{2} \\left(-1 + \\frac{1}{\\sqrt{1 - \\beta^{2}}}\\right)$"
      ],
      "text/plain": [
       "c**2*(-1 + 1/sqrt(1 - \\beta**2))"
      ]
     },
     "execution_count": 5,
     "metadata": {},
     "output_type": "execute_result"
    }
   ],
   "source": [
    "# Now need the dervivative of K wrt Mass\n",
    "def dervK_m(b,m,c):\n",
    "    Keqn = K(b,m,c)# call the K function with values\n",
    "    dK_dm = sym.diff(Keqn,m) #derv wrt m\n",
    "    return dK_dm\n",
    "\n",
    "print(\"The Derivative of Equation for Kinetic Energy in special relativity with respect to Mass\\n\")\n",
    "dervK_m(Beta,m,c) #output the derivative wrt m eqn"
   ]
  },
  {
   "cell_type": "code",
   "execution_count": 6,
   "metadata": {},
   "outputs": [
    {
     "name": "stdout",
     "output_type": "stream",
     "text": [
      "The Uncertainty of Equation for Kinetic Energy in special relativity\n",
      "\n"
     ]
    },
    {
     "data": {
      "text/latex": [
       "$\\displaystyle \\sqrt{\\frac{\\beta^{2} \\sigma_{b}^{2} c^{4} m^{2}}{\\left(1 - \\beta^{2}\\right)^{3}} + \\sigma_{m}^{2} c^{4} \\left(-1 + \\frac{1}{\\sqrt{1 - \\beta^{2}}}\\right)^{2}}$"
      ],
      "text/plain": [
       "sqrt(\\beta**2*\\sigma_b**2*c**4*m**2/(1 - \\beta**2)**3 + \\sigma_m**2*c**4*(-1 + 1/sqrt(1 - \\beta**2))**2)"
      ]
     },
     "execution_count": 6,
     "metadata": {},
     "output_type": "execute_result"
    }
   ],
   "source": [
    "# Now one can determine the uncertainty in K using the Given values and uncertainties\n",
    "# need a function for the uncertainty of K\n",
    "def Kerror(Beta,m,c):\n",
    "    Keqn = K(Beta,m,c) #call the K function with values\n",
    "    dK_dm = sym.diff(Keqn,m) #derv wrt m\n",
    "    dK_dv = sym.diff(Keqn,Beta) #derv wrt v\n",
    "    \n",
    "    # using the general equation for uncertainties, ie the squared sum of the two variables uncertainty\n",
    "    Kerror = sym.sqrt( (dK_dm * sigM)**2+(dK_dv * sigB)**2)   \n",
    "    return Kerror\n",
    "\n",
    "\n",
    "print(\"The Uncertainty of Equation for Kinetic Energy in special relativity\\n\")\n",
    "Kerror(Beta,m,c)"
   ]
  },
  {
   "cell_type": "code",
   "execution_count": 7,
   "metadata": {},
   "outputs": [
    {
     "name": "stdout",
     "output_type": "stream",
     "text": [
      "\n",
      "The Kinetic Energy of the particle with a mass of 2e-27 +/- 1.0000000000000001e-28 kg\n",
      "\n",
      "Is  7.20504151250418e-11 +/- 1.76687391588818e-11 Joules\n",
      "\n",
      "Or about  72.050 +/- 17.669 Pico Joules\n",
      "\n",
      "With a relative error of 0.245227444258554 or about  24.523 %\n"
     ]
    }
   ],
   "source": [
    "# declare all variable\n",
    "mVal = 2*10**-27 #[kg]\n",
    "BetaVal = 0.7 #v/c\n",
    "cVal = 3*10**8 #m/s\n",
    "\n",
    "#declare uncertainties\n",
    "mError = 0.1*10**-27\n",
    "BetaError = 0.05\n",
    "\n",
    "# need to make a dictionary of the values asssociated with each symbol to pass\n",
    "dictVars = [(Beta,BetaVal),(m,mVal),(c,cVal),(sigB,BetaError),(sigM,mError)] #dictionary of all variables\n",
    "\n",
    "\n",
    "KVal = sym.N(K(BetaVal,mVal,cVal))       # Pass the values into the K function\n",
    "\n",
    "KerrorEqn = Kerror(Beta,m,c)\n",
    "KerrorVal = sym.N(KerrorEqn.subs(dictVars))       # Sub in the variable values to get numeric solutions\n",
    "\n",
    "# get the pico values for simplification\n",
    "Kpico = KVal *10**12\n",
    "Kerrorpico = KerrorVal *10**12\n",
    "\n",
    "KRelativeError  = KerrorVal/KVal # variable to store the relative error for K\n",
    "ErrorP = KRelativeError*100 #percentage of relative error\n",
    "\n",
    "print(\"\\nThe Kinetic Energy of the particle with a mass of\",mVal,\"+/-\",mError,\"kg\\n\\nIs \",KVal,\"+/-\",KerrorVal,\"Joules\\n\")\n",
    "\n",
    "print(\"Or about \", str(\"%.3f\" % Kpico),\"+/-\",str(\"%.3f\" % Kerrorpico), \"Pico Joules\")\n",
    "\n",
    "print(\"\\nWith a relative error of\", KRelativeError,\"or about \",str(\"%.3f\" % (ErrorP)),\"%\")"
   ]
  },
  {
   "cell_type": "markdown",
   "metadata": {},
   "source": [
    "Q2) Statistics\n",
    "--"
   ]
  },
  {
   "cell_type": "markdown",
   "metadata": {},
   "source": [
    "Q2.1) (20 pts) Using the scipy.stats library, draw $10^4$ events from a Gaussian distribution centered on 50 and with a standard deviation of 10."
   ]
  },
  {
   "cell_type": "code",
   "execution_count": 8,
   "metadata": {},
   "outputs": [
    {
     "data": {
      "image/png": "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\n",
      "text/plain": [
       "<Figure size 432x288 with 1 Axes>"
      ]
     },
     "metadata": {
      "needs_background": "light"
     },
     "output_type": "display_data"
    }
   ],
   "source": [
    "# Declare the given variables\n",
    "Num = 10**4 #number of points for Gaussian distribution\n",
    "center = 50 #center of distribution\n",
    "sdev = 10 #standard deviation\n",
    "\n",
    "points = norm.rvs(loc = center, scale = sdev, size = Num) # create 10^4 points for a normal distribution (Guassian)\n",
    "\n",
    "#plotting the data, not nessisary but helps check that points was declared correctly\n",
    "plt.plot(points)                             \n",
    "plt.title(\"Generated points\") # heading\n",
    "plt.show()"
   ]
  },
  {
   "cell_type": "markdown",
   "metadata": {},
   "source": [
    "Q2.2) (10 pts) Using numpy libraries, determine the average and standard deviation of the events drawn earlier."
   ]
  },
  {
   "cell_type": "code",
   "execution_count": 9,
   "metadata": {},
   "outputs": [
    {
     "name": "stdout",
     "output_type": "stream",
     "text": [
      "\n",
      "The Average Values of the points 50.0329220811908 \n",
      "This matches the given center of 50\n",
      "\n",
      "The Standard Deviation from events is 10.057377150338377 \n",
      "This matches the given deviation of 10\n"
     ]
    }
   ],
   "source": [
    "# using the numpy library to find the average and the standard deviation\n",
    "average = np.average(points) #average\n",
    "print(\"\\nThe Average Values of the points\",average, \"\\nThis matches the given center of 50\")\n",
    "\n",
    "deviation = np.std(points) #standard deviation\n",
    "print(\"\\nThe Standard Deviation from events is\",deviation,\"\\nThis matches the given deviation of 10\")\n"
   ]
  },
  {
   "cell_type": "markdown",
   "metadata": {},
   "source": [
    "Q2.3) (10 pts) Using the matplotlib library, plot the distribution of these events, in terms of counts per bin, using 100 bins over the range 20 to 80."
   ]
  },
  {
   "cell_type": "code",
   "execution_count": 10,
   "metadata": {},
   "outputs": [
    {
     "data": {
      "image/png": "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\n",
      "text/plain": [
       "<Figure size 432x288 with 1 Axes>"
      ]
     },
     "metadata": {
      "needs_background": "light"
     },
     "output_type": "display_data"
    }
   ],
   "source": [
    "# declare a variable for 100 bins from 20-80\n",
    "binRange = np.linspace(20,80,100)\n",
    "\n",
    "#plot the distribution\n",
    "y,x,_ = plt.hist(points,binRange)\n",
    "yMax = (y.max())                    # declaring the max y value\n",
    "\n",
    "plt.title('Events Distribution')     # adding plot headings\n",
    "plt.ylabel('Number of Events per Bin')\n",
    "plt.xlabel('X Range')\n",
    "plt.show()\n"
   ]
  },
  {
   "cell_type": "markdown",
   "metadata": {},
   "source": [
    "Q2.4) (20 pts) Overlay the pdf of the distribution, scaled to the previous plot."
   ]
  },
  {
   "cell_type": "code",
   "execution_count": 11,
   "metadata": {},
   "outputs": [
    {
     "data": {
      "image/png": "iVBORw0KGgoAAAANSUhEUgAAAYUAAAEWCAYAAACJ0YulAAAAOXRFWHRTb2Z0d2FyZQBNYXRwbG90bGliIHZlcnNpb24zLjMuMywgaHR0cHM6Ly9tYXRwbG90bGliLm9yZy/Il7ecAAAACXBIWXMAAAsTAAALEwEAmpwYAABCsUlEQVR4nO3deZxN9f/A8dd77EKyRZZGsiUSikiIikSKypr2tPxS3/p+afm2fVtUikpIpVQipSLKNymkL1mytpNREyGy7+P9++Ocmbnnzp2ZO2PunLu8n4/Hfcw9n3vOve8zc+e+72c5n4+oKsYYYwxAkt8BGGOMiR6WFIwxxmSwpGCMMSaDJQVjjDEZLCkYY4zJYEnBGGNMBksKxhciskdETimg57pPRF517yeLiIpI0QJ67lpurEUK4vmOIY5+IvJZDo+3F5HUwowpmolIioh08juOWGRJIcq5b+797gdT+m1UhF8z3x8w7rFHA2JNFZEpInJW4H6qWkZVfy2IOFT1CVW9IT/xhnhNz4eJqv7mxppWEM8f8Dovi8jogO1iIrI3m7JWqjpRVS8MeExF5NRjeP25InLA/Rv9JSIfiEg197E3ROSQiOx2b2tE5EkROT7g+GtEJC3c96WIXCIii93z2SYiE0WkRn7jN5FjSSE2dHM/mNJvt/sdUC42qmoZoCzQCvgR+EpEOhb0CxVUjcAH84F2AdstgN+A84LKAJZFKIbb3b9TPaA8MCLgsadVtSxQGbgW5+/4tYgcF7DPwnDelyLSC3gHeB6oBDQCDgILROSEgjyhGH4/RA1LCjFKREqIyA4ROT2grLJbq6jibl8iIivc/f4nIk0C9k0RkXtEZJWI7BSRd0WkpPtP/ylwUsA3wJNE5GwRWSoiu0Rks4g8l1uM6khV1QeBV4GnAl4/45uuiFwsIt+730r/cOPKLo6HReR9EXlbRHYB17hlbwe9/HUislFENonI3QGv+4aIPBawnVEbEZG3gFrAx+7r/Su4OcqNYbqIbBeRtSJyY8BzPezWit50z+U7EWlBaPOAhiJSyd1uC0wGjgsqW6iqh91v5gvc15nvPr7SjfOqgBjuFpEt7nlfm9vfCEBVtwNTgdNDPHZAVZcA3YGKOAkibCIiwLPAY25tZ7+q/gncAOwB7iqg9/IQEVkF7A1ODO57d6F77CYRGSUixd3HXhKRZ4P2/1hE7szLecYTSwoxSlUPAh8AfQKKrwTmqeoWEWkGjAduxvlnfhmYLiIlgvbvDNQGmgDXqOpeoAvut333thHnW97zqloOqANMyWPIHwDNgr5ppnsNuNn9Zno68EUOcQBcCryP8+12Yjav1wGoC1wIDJUw2pdVdQDOt/X0mtnTIXabBKQCJwG9gCeCakDdcT7cywPTgZBNKqqaCmzA+eAHp4bwFfC/oLL5IY5Nr02c4cb5rrtdFTgeqA5cD7wUzjdxNwn1BJZnt4+q7gZmB8QWrvo4ifa9oOc7ipOILiig93IfoCtQXlWPBMWQBtyFU0s5B+gI3Oo+NgHoIyJJkPG76Ijzd05IlhRiw0fut5z0W/q303fw/iP1dcsAbgReVtVvVDVNVSfgVNlbBez/gqpudL8pfgw0zSGGw8CpIlJJVfeo6qI8nsNGQHA+LEM992kiUk5V/1bVb3N5roWq+pGqHlXV/dns84iq7lXV1cDreH9P+SIiNYFzgSHuN+gVODWgAQG7LVDVT9w+iLeAM3J4ynnAee4H0tnAIpzEkF7Wxt0nXIeBR1X1sKp+gvNNvH4O+78gIjuAlcAm4B+5PP9GoELAdqug92WrEMek13o2hXhsU8DjBfFe/j3U+0FVl6nqIlU9oqopOEmlnfvYYmAnTiIA6A3MVdXNoX4BicCSQmzooarlA26vuOVfAKVEpKWInIzzof6h+9jJwN2B/7RATZxvuOn+DLi/DyiTQwzX47Q9/ygiS0TkkjyeQ3VAgR0hHusJXAxsEJF5InJOLs/1exivF7jPBrznnV8nAdvdb82Bz109YDv4d1oyuDkjwHyc2kBj4FdV3QcsCCgrBXyTh/i2BX1Lzu1veof7fqquqv1UdWsuz18d2B6wvSjofRnqi8Jf7s9qIR6rFvD4sb6Xs31PiEg9EZkhIn+6TY5PkJmMwKkt9Hfv98dJ5gnLkkIMc6vgU3C+YfUFZgR8YP0OPB70T1taVcOpFmeZOldVf1HVPkAVnL6B97NpCsrOZcC3brNQ8HMvUdVL3ef+iMymqeym8A1nat+aAfdr4XzLBdgLlA54rGoennsjUEFEygY99x9hxBPKfJyaRFecGgLAdzixdwWWqOqBfD53gRKRMkAnMuMM1084zW1XBD1fEs6XgTlQIO/lnP5uY3AGO9R1mz/vw6m1pnsbuFREzgAa4rwHE5Ylhdj3DnAV0I/M6jbAK8Ag95uXiMhxItI16AMtO5uBiuIdgthfRCq7/7w73OIch2m6r1tdRB7C6Vi8L8Q+xcUZg3+8qh4GdgU8b5Y48uDfIlJaRBrhdI6mt7uvAC4WkQoiUhW4M+i4zUDI6ydU9XecNv8nxemUb4JTg8quXyNHqrrWfb3BuB+2qqo4tYPBhOhPCCfOguR2AjfH+aD8G6cpLmzu+dwDPCAifUWklPt7fxUoh3fEUyTey+CMgtsF7BGRBsAtQTGmAktwaghTc2iSTAiWFGJD+miY9Ft6tRpV/Qbn2+9JOKN10suX4rTFjsL5Z14LXBPOi6nqjzgdbb+61fWTcDqkvxORPTidzr1z+BZ7krvfHpx/tsZAe1XN7uKrAUCKW7UfhFuVzyaOcM3DOec5wPCA134Lpw09BfiMzGSR7kmcD7AdInJPiOftAyTj1Bo+BB5S1dl5iCvYfJxhn18HlH2FU2vKKSk8DExw47zyGF4/O/8Skd04zUVv4gyLbR2qppcbtyN8AE5n71/A9zhNY21UdVvAfgX+Xnbdg1P72I2TYIL/5uA0ITUmwZuOAERtkR1jTIITkfNwmpGS3dpwwrKagjEmoYlIMZzmulcTPSGAJQVjTAITkYY4fWTVgJG+BhMlrPnIGGNMBqspGGOMyRDTk0dVqlRJk5OT/Q7DGGNiyrJly/5S1cqhHovppJCcnMzSpUv9DsMYY2KKiGzI7jFrPjLGGJPBkoIxxpgMlhSMMcZkiOk+BWNMbDp8+DCpqakcOBAV8/3FrZIlS1KjRg2KFSsW9jGWFIwxhS41NZWyZcuSnJyMiOR+gMkzVWXbtm2kpqZSu3btsI+z5iNjTKE7cOAAFStWtIQQQSJCxYoV81wbs5qCMQXl6FH4/nv4PWC9l1KloFkzKFfOv7iilCWEyMvP79iSgjHHYs8eeOst+O9/4auvYPv2rPskJcGZZ0L79jBgAJyR0wqdxvjLmo+MyY9du+CJJyA5GW69FaZNC50QwKlBLFsGzz4LTZtC9+6wZElhRmvyae7cuVxyibPy7MGDB+nUqRNNmzbl3XdDLckQH6ymYExeqMKbb8Jdd8Hff+fvOT7+2Lldfjm8/DJUqpT7McZ3y5cv5/Dhw6xYscLvUCLKkoIx4dq1C265Bd55J/t9jj+er8ufzOEkZwhg+5L74IcfQu/7wQewaBG9293OolpNMopThnUtyKijW6T7FXKYBTolJYXOnTvTsmVLli9fTr169XjzzTeZP38+d955J5UqVaJZs2YAbNmyhf79+7N161aaNm3K1KlTqVOnTmRj94k1HxkTjhUrnA7jUAmhXDm4/3749lvYto1+vZ/gmisf4ZorH3E6njdvhkmToGXLrMdu3Mg7k+7nrq8mIra+S6H76aefuOmmm1i1ahXlypXjueee48Ybb+Tjjz/mq6++4s8//wSgSpUqvPrqq7Rt25YVK1bEbUIASwrG5O7rr6FdO1i3zlteqhQ8/DBs2ACPPeZ0JhcpkvX4KlWgd29YuNDpkG7e3PNwEsrg/03iiVmjSDqaFrnzMFnUrFmTNm3aANC/f3+WLl1K7dq1qVu3LiJC//79fY6w8EUsKYhITRH5UkR+EJHvRGSwW/6wiPwhIivc28UBx9wrImtF5CcRuShSsRkTti++gAsvdJqOAp1+OixdCg89BOXLh/dcIs5zLVwIQ4dmaTrps+oznp05Ao4cKZjYTa6Ch2zu3Lkz4YfKRrKmcAS4W1UbAq2A20TkNPexEara1L19AuA+1htoBHQGRotIiK9dxhSSWbOga1fYt89bfvPNsHgxnHZa6ONyU6wYPPmkU2uo7J3S/rLv5zq1isOH8/fcsUY1srdc/PbbbyxcuBCASZMm0alTJ9avX886t1Y4adKkiJ5+NIpYUlDVTar6rXt/N/ADUD2HQy4FJqvqQVVdD6wFzo5UfMbkaNkyZ3RQ8NWgjz4KY8Y4TUfH6oIL4Kuv2FSmord86lS47bawPtTMsWnYsCETJkygSZMmbN++nbvuuotx48bRtWtXzj33XE4++WS/Qyx0hTL6SESSgTOBb4A2wO0icjWwFKc28TdOwlgUcFgqIZKIiNwE3ARQq1atyAZuElNqKnTrBvv3e8uHD4e77y7Y16pfnyv6PcWkyfdTc+fmzPJXXoH69Qv+9YxHUlISY8eO9ZR17tyZH3/8Mcu+7du3p3379oUUmX8i3tEsImWAqcCdqroLGAPUAZoCm4Bn03cNcXiWr0qqOk5VW6hqi8qVQ64mZ0z+7dnjJIRNm7zlzz8fsQ/o1PJVuaLvU/x2/IneB/75T5g+PSKvaUx2IpoURKQYTkKYqKofAKjqZlVNU9WjwCtkNhGlAjUDDq8BbIxkfMZ4qMLVVzvDTwP94x9wxx3H/PTJQ2dm3IL9Wa4S1/V6iF3FS3vj6dsXVq065tc2WSUnJ7NmzRq/w4g6kRx9JMBrwA+q+lxAebWA3S4D0v8q04HeIlJCRGoDdYHFkYrPmCxGjYIPP/SWde8OTz9dKC+/tlItbu1xr3dY6969TsdzcGe3MRESyT6FNsAAYLWIrHDL7gP6iEhTnKahFOBmAFX9TkSmAN/jjFy6TVVt0LYpHKtWOc01gc44AyZOJPn+WRlFkb7aeEHtM53kdMstmYU//OA0XY0ZE9HXNgYimBRUdQGh+wk+yeGYx4HHIxWTMSHt3w99+sDBg5ll5co5tYYyZQo/nkGDnCGvr7+eWTZ2LFx0EfToUfjxmIRicx8Zc889znQUgcaOhRCrVQX2B0S01vDCC7BgAfzyS0bR332upsu1L/JnuUqJNT+SKVSWFEximzMHRo/2lg0c6NQc/FSmjDPP0jnnZFzhfMKB3Tz+2Utc3/NBf2OLgFCd78cinKRZpkwZ9uzZk7H9xhtvsHTpUkaNGsXYsWMpXbo0V199dchj586dS/HixWndunWBxRwtLCmYxLV/v9NUE6hOHXjxxbAOj3itoUULePxxGDIko6jjuiVc/NPXwCUF/3omw6Dg90WQuXPnUqZMmQJJCmlpaRQJNWeWT2xCPJO4HnsM1q7N3BZxVlErW9a/mILdcw+ce66n6JHPx+Z/LQcTlocffpjhw4cD8MILL3DaaafRpEkTevfuTUpKCmPHjmXEiBE0bdqUr776ig0bNtCxY0eaNGlCx44d+e233wBYt24drVq14qyzzuLBBx+kjNtHNXfuXDp06EDfvn1p3LgxAD169KB58+Y0atSIcePGZcRSpkwZhgwZQvPmzenUqROLFy+mffv2nHLKKUyPwHUsVlMwiWnNmqxDTW+5xWmu8VmWGsi4cc5IKHc+pMp7dzgT6r38sk8Rxof9+/fTtGnTjO3t27fTvXv3LPsNGzaM9evXU6JECXbs2EH58uUZNGgQZcqU4Z577gGgW7duXH311QwcOJDx48dzxx138NFHHzF48GAGDx5Mnz59slw5vXjxYtasWUNtt+9q/PjxVKhQgf3793PWWWfRs2dPKlasyN69e2nfvj1PPfUUl112GQ888ACzZ8/m+++/Z+DAgSFjPhZWUzCJ5+hRuOkmz2ykf5ap4CyvGY0aNoR77/WWjRvnrAlt8q1UqVKsWLEi4/boo4+G3K9Jkyb069ePt99+m6JFQ3+PXrhwIX379gVgwIABLFiwIKP8iiuuAMh4PN3ZZ5+dkRDAqZGcccYZtGrVit9//51f3EEGxYsXp3PnzgA0btyYdu3aUaxYMRo3bkxKSkr+fwHZsKRgEs+bbzrTVwd4qNMgOP54nwIKw733sq5C0FRgt98OaXYpT6TNnDmT2267jWXLltG8eXOOhDG1eTjTbx933HEZ9+fOncvnn3/OwoULWblyJWeeeSYH3MkYixUrlvF8SUlJlChRIuN+OLHklSUFk1j27MnyrXv2qS35bz3/m41yVLIk9110u7ds1SoYP96feBLE0aNH+f333+nQoQNPP/00O3bsYM+ePZQtW5bdu3dn7Ne6dWsmT54MwMSJEznX7Qdq1aoVU6dOBch4PJSdO3dywgknULp0aX788UcWLVqU7b6RZn0KJrEMGwbuEosAB4sU4+FON4PIMY0mKughlaF8U6sxH53Wjh7fz8ssfOABuOoq52K7GBat112kpaXRv39/du7ciapy1113Ub58ebp160avXr2YNm0aL774Ii+88ALXXXcdzzzzDJUrV+Z198LDkSNH0r9/f5599lm6du3K8dnURjt37szYsWNp0qQJ9evXp1WrVoV5mh6iMTxne4sWLXTp0qV+h2FixYYN0KCBZ42EUedcyfDzso5FD/yQisQHfrjPH7xftV1b+eKVQZQ6EnD19ZAhTrKLIT/88AMNGzb0O4yI27dvH6VKlUJEmDx5MpMmTWLatGmFGkOo37WILFPVFqH2t5qCSRxDh3oXzalalTEte/kSSn4TzaZylRl39uUM/l/AimAjRjirwYW4Atv4a9myZdx+++2oKuXLl2d8DDT3WVIwieGbbyC4Tffxx9n7c+nQ+0exsS17MjhlHmx0Z5Y/dMhJeO++629gJou2bduycuVKv8PIE+toNonhvvu822ee6UxnEYP2Fy/prPEcaMoUWL7cn4DyKZabrmNFfn7HVlMw8W/OHPjiC2/Z8OHedQuiVLbNTP37w8iR3kTw73/DjBmFEtexKlmyJNu2baNixYphDd80eaeqbNu2jZIlS+bpOEsKJr6pwv33e8s6doTzz/cnnoKSlORM09E1YNTOzJnwv/9BDEzSVqNGDVJTU9m6davfocS1kiVLUqNGjTwdY0nBxLcZM5z+hECP575kR2EMMT1mXbpAmzbw9deZZffdB19+6czjFMWKFSvmuZrXRA/rUzDx6+hRZxx/oO7doWVLf+IpaCJZE9y8efD55/7EY+KCJQUTv95/37vovQj85z/+xRMJ7drBBRd4yx54wGk2MyYfLCmY+HT0aNYE0Ls3NGniTzyRFFxbWLzYagsm3ywpmPj08cfO9NjpROChh/yLJ5LOOgu6dfOWPfaYP7GYmGdJwcQf1awfildeCfXr+xNPYQjuO5k/37kZk0eWFEz8+ewzCJ4TK3hYarw5+2y48EJvmdUWTD5YUjDxRTVrX0KPHuAueRjXgmsLs2dnHY5rTC5yvU5BRCoDNwLJgfur6nWRC8uYfJo/3ztuH+K/lpCubVtnNNK8gKm1H3vM6V8xJkzh1BSmAccDnwMzA27GRJ/gKaQ7d4YWIWcIjk/BtYUZM+C77/yJxcSkcK5oLq2qQyIeiTHHatUqmDXLWxailhATVyvnV8eOzsV5gc1Gw4eDu+iLMbkJp6YwQ0Qujngkxhyr4cO9261bg7ssYsIQgX/+01s2cSL88Yc/8ZiYE05SGIyTGPaLyC4R2S0iuyIdmDF58vvvMGmStyz4wzFR9OgBp56auX34MDz/vG/hmNiSa1JQ1bKqmqSqpVS1nLsd2wvCmvgzciQcOZK5Xa+eM89RIipSBO6+21s2dizs3OlPPCamZJsURKSB+7NZqFvhhWhMLnbsgHHjvGX33ONML52oBg6EypUzt3fvzvo7MiaEnP5r/uH+fDbEbXh2BxlT6MaOhT17MrdPPBEGDPAvnmhQqhT83/95y0aOdJbuNCYH2SYFVb3J/dkhxC3XFUpEpKaIfCkiP4jIdyIy2C2vICKzReQX9+cJAcfcKyJrReQnEbmoIE7QxLnDh2HUKG/ZHXdAHlebiku33gqlA9ag3rgR3nvPv3hMTMixfi0iJ4tIJfd+KxG5R0R6hPncR4C7VbUh0Aq4TUROA4YCc1S1LjDH3cZ9rDfQCOgMjBaR6F8v0fjr/fe9I2tKl4ZBg0geOtNzS0gVK8K113rLRo60abVNjnLqU3gQ+AJYJCKPASOBSsBgERmZ2xOr6iZV/da9vxv4AagOXApMcHebAPRw718KTFbVg6q6HlgLnJ33UzIJQxVGjPCWDRwIFSr4E080uuMO7/bSpc6SncZkI6eL13oDDYHSwG9AVVXdJyJFgRV5eRERSQbOBL4BTlTVTeAkDhGp4u5WHVgUcFiqWxb8XDcBNwHUqlUrL2GYeLNoESxZ4i0bPNifWKJVvXrOOs4zA2pLI0c6y3gaE0JOzUcHVPWQqu4A1qnqPgBVPQKE3VslImWAqcCdqprT9Q2hFpXNUs9V1XGq2kJVW1QOHF1hEk9wLeHii+N7euwAeWoau+su7/YHH0BKSkTiMrEvp6RQXkQuF5GeQDn3fvr28eE8uYgUw0kIE1X1A7d4s4hUcx+vBmxxy1OBmgGH1wA25uFcTCLZsAGmTvWW3XmnL6FEvfPPh9NPz9w+ejRr57wxrpySwjygG3AJMN+9H7idIxER4DXgB1V9LuCh6cBA9/5AnAn30st7i0gJEakN1AUWh38qJqG89JLz4ZauUSPo1Mm/eKKZSNaE+cor3mG8xriy7VNQ1WuzeyxMbYABwGoRWeGW3QcMA6aIyPU4fRVXuK/3nYhMAb7HGbl0m6qmHWMMJh7t2wevvuotu/NO58MvAQU2IaUM6xp6p379YOhQ+OsvZ3vXLnjrLbjllkKI0MSScGZJzRdVXUDofgKAjtkc8zjweKjHjMnwzjvw99+Z2xUqQL9+iTv0NAzJD8/h7rod+b+/3s0sHDUKBg1K2GRqQotYUjAmIlSztoffcINzBa/xCE6SE5t24ZZF71FU3Wa377+HL790+hyMceV28VqSiLQurGCMydWCBbByZeZ2UpI1gYTpz3KV+G+9c7yFL77oTzAmauWYFFT1KM5cR8ZEh+BaQrdukJzsSyixaELzbt6C6dOdkVzGuMJpPvrMHYb6gapdH2989McfWYehBk/6lg3rb3AsrtEImjRxVqkDZwTXmDFZlzE1CSucuYX/AbwHHLJFdoyvXn4Z0gIGpDVsaO3heSUCt9/uLXvlFdi/3594TNTJyyI7xWyRHeObQ4eyrgdw++02ciY/+vWD8uUzt7dvhylTfAvHRJdck4I4+ovIv93tmiJiE9WZwvXhh7B5c+Z22bK2ZkJ+lS4N11/vLRs92p9YTNQJp/loNHAO0Nfd3gO8FLGIjAllzBjv9tVXO4nB5M+gQd7txYth2TJ/YjFRJZyk0FJVbwMOAKjq30DxiEZlTKDvvoN587xlNgz12Jx6KlwUtI5VcOI1CSmcpHDYXexGAUSkMnA050OMKUDBH1bt2jlzHZljc+ut3u3gK8VNQgpnSOoLwIfAiSLyONALeCCiURmTbvduePNNb1nAh5kNNT0GXbtCrVrw22/O9v79MGGCzTab4MIZfTQR+BfwBM5U1j1U1RZ6NYVj4kQnMaSrWhV69PAtnLhSpAjcfLO3bPRo7+yzJuGEO/dRaSC9CckmmTGFQzXrqJgbb4Ti1qWVnTzXnK6/Hh5+GA4fdrZ/+QW++MKmIU9g4QxJfRBnLeUKOGs0vy4i1nxkIm/hQli9OnM7KclJCqbgnHgi9OrlLRs71p9YTFQIp6O5D3CWqj6sqg8BrYB+kQ3LGLJ+OHXrBjVrht7X5F/w8NSPPoKNtuhhogonKaQAJQO2SwDrIhKNMem2bct6la0NQy0QWdZ3btsWTjstc4e0NBg/3p/gjO/CSQoHge9E5A0ReR1YA+wRkRdE5IXIhmcS1htvwMGDmdu1a8MFF/gWTlwTyVpbGDfOO8+USRjhdDR/6N7SzY1MKMa4jh51Jr8LdPPNTp+CiYwBA2DIkMyJ8X7/HT75xGmyMwkl16SgqhMKIxBjMnz5pTMKJl2xYnDtsS4ZbnJUvjz06eNtNho71pJCArKvXib6BHcw9+wJVar4E0siCW5C+vRTSEnxJRTjH0sKJrps2uSMfglkHcyF46yzoHnzzG1VZ60Fk1DylBTcNZttLQUTOePHw5EjmdsNGzqjY0zhCKotbH1+dOaFbSYhhHPx2jsiUk5EjgO+B34SkX9GPjSTcNLSsnwzfeSkc0m+9xOfAkpAvXt7piSvvHcHTJvmXzym0IVTUzhNVXcBPYBPgFqArW5iCt5nn3kWkT9QtDhTT+8IhBhbbyKjTJmsixcFjwQzcS2cpFBMRIrhJIVpqmp1SRMZQR3MMxq0ZVfJMj4Fk8CCJ8n7/HNYu9afWEyhCycpvIxzVfNxwHwRORnYGcmgTAJKTYUZMzxFE5t28SmYBNekCctOauAtC14f28StcJLCx6paXVUvVlUFfgOui3BcJtG8+qp3yuYmTVh+Un3/4klw7wQn5Ndf915hbuJWOElhauCGmxgmRyYck5COHHGSQqBBg5zpF0Kw/oXIm9HgXHaWOC6z4K+/YOrU7A8wcSPbpCAiDUSkJ3C8iFwecLsG7wR5xhybmTPhjz8yt487DvrZRLx+OlisREYnfwbrcE4IOdUU6gOXAOWBbgG3ZoBNam8KTtCHzTunnkvyE1/5FIxJl6VPZ/58+OEHf4IxhSbbuY9UdRowTUTOUdWFhRiTSSQpKTBrlqcoS3u28cW6SjX5pubptPx9TWbhyy/DyJG+xWQiL5w+hbUicp+IjBOR8em33A5y99siImsCyh4WkT9EZIV7uzjgsXtFZK2I/CQiF+XzfEyseeUVZzoF16qqp7Km6qk+BpRYcuufmdi0s7dgwoTMmVRNXAonKUwDjgc+B2YG3HLzBtA5RPkIVW3q3j4BEJHTgN5AI/eY0SJSJIzXMLHs8GF47TVPkQ1DjS6z6rWBSpUyC3bsyLr4kYkr4SSF0qo6RFWnqOrU9FtuB6nqfGB7mHFcCkxW1YOquh5YC5wd5rEmVk2bBps3Z26XLcvHDc/zLx6TxaGixeCaa7yF1uEc18JJCjMCm3kKwO0issptXjrBLasO/B6wT6pbloWI3CQiS0Vk6datWwswLFPogqfIHjCAfcVL+ROLyd5NN3m3Fy6ElSv9icVEXDhJYTBOYjggIrtEZLeI7Mrn640B6gBNgU3As255qAHpGqIMVR2nqi1UtUXlypXzGYbx3S+/wJw53rLg6RVMVEh+7WcWnHyGt9BqC3ErnJXXyua2T7hUNaOtQEReAdLnNUgFagbsWgPYWFCva6JQ8IdKq1bQpAm883vo/U3E5XQx4MSmXTh3Q0Dt4K234KmnPDOqmvgQztTZIiL9ReTf7nZNEclXe7+IVAvYvAxIH5k0HegtIiVEpDZQF1icn9cwMeDAAWfahEC2kE5Um123FVuOOyGzYM8emDTJv4BMxITTfDQaOAfo627vAV7K7SARmQQsBOqLSKqIXA88LSKrRWQV0AG4C0BVvwOm4KzXMAu4TVXT8noyJka8/z5sDxiDcMIJcMUV/sVjcnWkSFHebXKht3DsWM9wYhMfcm0+AlqqajMRWQ6gqn+LSPHcDlLVPiGKXwtRlr7/48DjYcRjYl1wB/O110Ip62COdpOaXsSti96jiLoTFy5fDosXQ8uW/gZmClQ4NYXD7jUDCiAilYGjOR9iTDZWr4avv/aWBY9uMVFpY7kqfHlKc29hcII3MS+cpPAC8CFQRUQeBxYAT0Q0KhO/gjuYzz8f6tsU2bFi4plBo9MnT4a///YnGBMR4Yw+migiy4COOENHe6iqzYpl8m7PHmfUSqBBg2wK7Bgyr3YzOPnkzGVTDxxwpr64805f4zIFJ5zRR88DFVT1JVUdZQnB5Ns778CugEtcqlaFHj18C8fk3dGkIlmb+8aMsQ7nOBJO89G3wAPuZHXPiEiLSAdl4pAqvBQ0aO3666FYMX/iMfl33XVQNKCR4eef4Ysv/IvHFKhck4KqTlDVi3HmIvoZeEpEfol4ZCa+LFwIq1ZlbiclWQdzrKpaFXr29JaNGeNPLKbAhVNTSHcq0ABIBn6MSDQmfgV/aHTrBrVq+ROLOXa33urd/ugj7+p5JmaF06eQXjN4FOcK5Oaq2i3ikZn4sXVr1umW7Qrm2Na2LTRqlLmdluZZZ9vW0Y5d4dQU1gPnqGpnVX1dVXdEOCYTb8aPh0OHMrfr1IELLvAvHnPsRLIm9nHjnDUyTEzLNimISH8AVR2Ls15z4GO3RzguEy/S0rJcm/B4zXZOn4KJbQMGwHHHZW5v3AjTp/sXjykQOf1n/iPg/otBj10XgVhMPJo1C9avz9g8WKQY7zXpZM0L8aBcOejf31s2erQ/sZgCk9PFa5LN/VDbxoQ2apRnc0bDtuwoVc6nYExBCEzkKbfe6q0JfvEFfP+9D1GZgpJTTUGzuR9q25isfvnFqSkEeKOZjVGIK02aOJ3OgYKvRzExJaek0MBdNnN1wP30bZusxuQuqClhRbV6rK5W16dgTMTcdpt3e8IEyh7c608s5pjl1HzUsNCiMPFn794sC+lMaHaJT8GYiLrsMqhWDTZtcrb37uXyNV8wobnVCmNRtklBVTcUZiAmzkycCDt3Zm5XrswnDc71Lx4TEen9C4NP6cBdm97JKL/625nOlwCx7sdYY+MCTcFTzdLBzI03crBormszmRj1TtPOnvmQ6mxPpU3gms4mZlhSMAVv/nxnMZ10SUkwaJB/8ZiI21qmAvTq5Sm7ZpldsxCLcrp4bY7786nCC8fEheef925feinUrOlPLKbw3O69prXj2iXU+nuTT8GY/MqpplBNRNoB3UXkTBFpFngrrABNjElJgWnTvGV33OFLKKaQtW4NZ56ZsZmEMvDbGT4GZPIjp9FHDwJDgRrAc0GPKXB+pIIyMWzUKDgasIR3kybQrp1/8ZjCIwKDB8M112QUXbFqNuzeDWXL+heXyZNsawqq+r6qdgGeVtUOQTdLCCarPXs8M2UCTi3BRqAkjquugsqVMzbLHdrnLNdpYkY4i+z8R0S6i8hw92aDzU1ob73lHYZasSL07etfPKbwlSyZdVDBCy94a48mqoWznsKTwGDge/c22C0zJtPRo84/f6Cbb4ZSpfyJx/jnlls4nFQkczvEdCcmeoUzJLUrcIGqjlfV8UBnt8yYTLNnw48BC/IVKWIL6SSqatWYGXyh4siRvoRi8i7c6xTKB9w/PgJxmFj3XNBYhF69oEYNf2Ixvnu9eXdvwezZsGaNP8GYPAknKTwJLBeRN0RkArAMeCKyYZmYsno1fPaZt+yuu/yJxUSFlSfVZ2n1oOnTgr84mKgUTkfzJKAV8IF7O0dVJ0c6MBNDRozwbrduDS1b+hOLiRqvntXDWzBxIvz5py+xmPDldJ1CBlXdBNg16yarP/90/tkD3X13xl1bWS1xfVa3Fb8dfyK1dm52Cg4dcqZTf/RRfwMzObK5j8yxeekl55/dtaF8VWdaC5NwgpdYPZpUhPEtgt4Lo0fDvn0+RGfCZUnB5N++fTBmjKdofItLnZFHxgBTmlzArhLHZRZs2+Zcz2KiVo5JQUSSRCRfQwZEZLyIbAk8XkQqiMhsEfnF/XlCwGP3ishaEflJRC7Kz2uaQjZhgvNP7tpZ4jjea9zJx4BMtNlXvJQzrXag556DtDR/AjK5yjEpqOpRYKWI1MrHc7+Bc01DoKHAHFWtC8xxtxGR04DeQCP3mNEiYl83o1laGgwf7ima1LQz+4qXytKMYBLbG826eS9m+/nnrJMmmqgRTvNRNeA7EZkjItPTb7kdpKrzge1BxZcC6ROhTAB6BJRPVtWDqroeWAucHc4JGJ9MnQq//pqxeSipKOODx6YbA/xZrhLTTwuaFPGpp5zFmEzUCWf00SMF+HonuiOZUNVNIlLFLa8OLArYL9Uty0JEbgJuAqhVKz8VGHPMVJ1/6gAfNurAlrIVfQrIRLuXz76cnmu+yCxYvNhZjMlm0I064VynMA9IAYq595cA3xZwHKGm0Qz5NUJVx6lqC1VtUTlgNkZTiObMgW8D3gIijGt5uX/xmKj3c+Vk5tQ5y1v4lK3fFY3CmRDvRuB94GW3qDrwUT5fb7OIVHOftxqwxS1PBQKX5qoBbMzna5hIe/pp7/all7Kuoq2sZnI2tmVPb8Gnn8KqVf4EY7IVTp/CbUAbYBeAqv4CVMnxiOxNBwa69wcC0wLKe4tICRGpDdQFFufzNUwkffutM49NoCFD/InFxJQlNRrBOed4C4O/YBjfhZMUDqpqxtVJIlKUbJp2AonIJGAhUF9EUkXkemAYcIGI/AJc4G6jqt8BU3Cm5p4F3KaqNmYtGj0ZNGv6eedBq1b+xGJii0jWLxCTJ8O6df7EY0IKJynME5H7gFIicgHwHvBxbgepah9VraaqxVS1hqq+pqrbVLWjqtZ1f24P2P9xVa2jqvVV9dP8n5KJlE43jOHo+1O9hVZLMHnRrRs0DJgoLy3N+haiTDhJYSiwFVgN3Ax8AjwQyaBMdLpt4RSSAiqJa06sQ/K8o3Y9gglfUhLcd5+37I034LfffAnHZBXO6KOjONcU/AdneOoEVRtgnHDWrqX7D/M9RS+ec5Wtv2zyrndvOOWUzO3Dh+GZZ/yLx3iEM/qoK7AOeAEYBawVkS6RDsxEmWHDKKKZ6+z+XLEWn9WzvgSTD0WLwr33esteecWm1Y4S4TQfPQt0UNX2qtoO6ACMyOUYE09++82Z5yjAqNZXomLzKZp8uvpqqBkwjPngQXj2Wf/iMRnC+a/eoqprA7Z/JfP6ApMInnwSjhzJ2Fx/QjVmNmjrY0Am5hUvnnWQwujRsMU+WvyWbVIQkctF5HKceY8+EZFrRGQgzsijJYUWofFXSgq89pqnaEzLK0hLsvkKzTG67jqoWjVze98+u24hCuRUU+jm3koCm4F2QHuckUgnZH+YiSuPPeZ0BLp+O/5EPjj9fB8DMnGjVCkYOtRb9tJLsGmTP/EYIIcJ8VT12sIMxEShdeuc4YIBXmjThyNFwlrF1Zjc3XyzUzvY6M5qc+AADBsGzz/vb1wJLJzRR7VF5DkR+SAvU2ebOPDoo57FUH494SQ+bNTBx4BM3ClZEu6/31v28suQmupPPCasjuaPcGZJfRFnJFL6zcSzn36Ct9/2FD3fpo/1JZiCd/31WUciBU+nYgqN5HYdmoh8o6otCymePGnRooUuXbrU7zDi01VXwZQpmdsNG3LKJcM4aknBFJCUYV0zN8aNc5qS0hUrBj/+6L3IzRQYEVmmqi1CPRZOTeF5EXlIRM4RkWbptwKO0USRbgNHehMCwEMPWUIwkXPttVC7dub24cPw4IP+xZPAwkkKjYEbcWY0TW86Gp7jESamDZn3hregaVO44go/QjGJolgxeCRokceJE2HFCl/CSWThJIXLgFNUtZ2qdnBvNiYxXs2ezbkbVnrLnnrKmcjMmEjq2xcaN/aWBU+HYSIunP/0lUD5CMdhosHRo1mvMu3YES64wJ94TGIpUsQZjhpo1iz48kt/4klQ4Qw4PxH4UUSWAAfTC1W1e8SiMv54911YvtxbNmyYzYRqIiJwyvWMTucuXaBdO5g3L3PHIUNg0SKrrRaScJLCQxGPwvhv//4sVfUZDdpySYuQAxSMiQwRLqvZjQ8JSApLljgrtPXt619cCSTXpKCq83Lbx8SBESNgw4aMzcNJRRjetj+32wI6ppAtr96AT+u1psvP/8ssHDIEevSA0qV9iytRhHNF824R2eXeDohImojsKozgTCHZtAmeeMJT9GazS0ipUN2ngEyiG9b+Gg4lBXxnTU2F4TbosTCEs/JaWVUt595KAj1xFtsx8eK++2Dv3ozNv0uW5fk2fXwMyCS6DSecxOstgrotn3rKpr8oBHnuuVHVjwAbkhovli3LMundc237satkGX/iMcY1qvVV/FX6+MyCffsy+r2Sh87MuJmCFU7z0eUBt14iMgywNZrjwdGjcMcd3rLTTuOdprbaqvHf7hLH8Vzb/t7Ct9+Gr7/2J6AEEU5NoVvA7SJgN3BpJIMyheSNN+B///OWjRhhk96ZqDG5yYX8UDnZW3jrrRQ5mhZyf3Pswhl9ZOsqxKNt2+Bf//IUzT71bG784nA2BxgTOdk1Ax1NKsIjnW5i8qT7MgtXrWJgpRmMP8u+m0ZCtklBRHKajUpV9T8RiMcUlnvvdRKDa3/REjzS6eYcDjDGH4tqNeGDRh24/LvMK5v/seBtZjZow+aylXyMLD7l1Hy0N8QN4HpgSHYHmRiwaBG88oqn6MXWV5F6/Ik+BWRMzp5sfx27ShyXsV3m0H4e+OK1HI4w+ZVtUlDVZ9NvwDigFHAtMBmwSc5j1aFD3nnrARo04JWzL/MnHmPCsLXMCTxz3gBPWbcfv6L9OltPpaDl2NEsIhVE5DFgFU5TUzNVHaKqWwolOlPwnnoKVq3ylr30EoeLFPMnHmPCNLFpF1afWMdT9vh/X4Jddi1tQco2KYjIM8ASnNFGjVX1YVX9u9AiMwXvu+/gP0FdQf37w/l22YmJfkeTinDfRbeTJpkfW9V3b4WhQ32MKv7kVFO4GzgJeADYGDDVxW6b5iIGpaXBddc5K1qlq1IFRo70LSRj8mp1tbq8clYPb+GYMTB3rh/hxKWc+hSSVLVU0DQX5dK3CzNIUwBGjoTFi71lo0ZBxYq+hGNMfo04tx+/nnCSt/CGG5wrns0x82WCchFJEZHVIrJCRJa6ZRVEZLaI/OL+PMGP2OLSmjVw//3esssug169/InHmGNwsFgJhnYJuhJ/3Tr45z/9CSjO+LlqRQdVbaqq6RP2DwXmqGpdYI67bY7VwYPQr5/zM1358vDSS7Z4jolZi2uezptndvUWjh4Nn3ziT0BxJJqWMroUmODenwD08C+UOPLvf4ccbUS1av7EY0wBGdb+GtafEPQ+vvZa2GKDI4+FqBb+3HYish74G2divZdVdZyI7FDV8gH7/K2qWZqQROQm4CaAWrVqNd8QsDCMCfLll84ay4F/4759YeJEIPupBYyJFWf+8SMfThriDKRI1707fPSR1YRzICLLAlppPPyqKbRR1WZAF+A2ETkv3ANVdZyqtlDVFpUrV45chLFu61YYMMCbEGrWdGoJxsSJ5dUbMKLVVd7C6dN58MJb7EtPPvmSFFR1o/tzC/AhcDawWUSqAbg/rQ6YX2lpTj/CH39klonAm286/QnGxJFRra9iebX6nrIHvniNJpt+9imi2FboSUFEjhORsun3gQuBNcB0YKC720BgWmHHFjceewxmz/YUjTm7J8mz9triJCbupCUV4c5ud7O7eKmMsuJHjzD6o2GwfbuPkcUmP2oKJwILRGQlsBiYqaqzgGHABSLyC3CBu23yavZseOQRT9E3NRoxPGjeGGPiyYYTTuJfXQZ7ymrs2gIDBzqLSZmwFXpSUNVfVfUM99ZIVR93y7epakdVrev+tBSfV+vXOx3Jgf0IVarwf93/ZQvnmLj3aYNzeb15N2/hjBk81+5qqxnnQTQNSTXHYvduZ9TFX39llonAO++wpaxdtWwSwxMdrmNFtXqesn8smEiXHxf4FFHssaQQD9I7ltes8ZY/+qgzJNWYBHG4SDFuu3Qo20t5Z+J5buYIWL7cp6hiiyWFeHD//fDxx96yK6/MOrWFMQngj+OrMOiy+zgc0GRa6shBpya9aZOPkcUGSwqxbtQoZ42EQM2a0aDGlSTf+4m1pZqEtLjm6Txw4a3ewtRU6NIFdu70J6gYYUkhlr33HtwRNDFY1aowbRoHipX0JyZjosS7Z1zE+ObdvYUrV0KPHt65wIyHJYUYlDx0Jn36PMHBPkEjjUqXhmnToEYN/4IzJoo8fv71zKlzlrdw7lxncanAqTFMBksKMahZ6g+88sFjlEg7kllYtCgDuw4h+YOt1mRkjCstqQi3dx/Ctyd5r3jm/ffhppvsGoYQLCnEmoULmfDeg5Q5tN9bPn48805p7k9MxkSx/cVLcl2vh6BBA+8D48cz6cwulhiCWFKIJYsWwUUXUTY4ITzzjDP5nTEmpB2lysF//wvVq3vK+6z6DAYNssQQwJJCrPjyS7jwQucitQDD2/Yn+a+G1mRkTG5q1XL+j4LXEnnlFWcdhsD1yxOYJYVY8MEH0LlzloTw3Ln9GNW6t09BGROD6taFL79kc5kK3vI334TLL7d1nvFpkZ2C0qJFC126dKnfYUTWuHFwyy1ZqrfPt+7DiLb9fArKmNh2yrZUJk+6lyp7//Y+0KYNTJ8OFSqEPjBOROMiOyY3aWlw991w881ZEsIT7a+1hGDMMfi1Yg2u6PcUvx1/oveBr7+GVq3gxx/9CSwKWFKIRjt3wiWXwHPPecuLFIHx4xnXsqc/cRkTRzaccBI9+z8DTZp4H/jlF3Y1bQGzZvkTmM8sKUSb1auhZcusb8iSJZ2+hWuv9ScuY+LQ1jIVYN48aNvWU17u4F7o2hWefDLhRiZZUogWqtzb+f840KwF/PST56FNZSrCV185E3oZYwpW+fLO4lTXXOMtP3oU7rvPmS9p82Y/IvOFJYVosG0b9O7Nk/8dRckjhzwPLa9Wn+4DR0CLkH1CxphjlDx0JskPfU5ylZ785/wbSJOgj8XPPoOmTZ3rHBKAJQW/ffQRNGoEU6ZkeWhK40707vukU8U1xkSWCK+d1YNrez2UZT0G/vzTGRZ+ww1xP8uqDUn1y6ZN8I9/wOTJWR7aW6wk9190Gx816uBDYMaYqrv+YtGa15xm22A1ajhT1nfv7qxuGINsSGo0OXQIhg+H+vVDJoTvq9Sm28CRlhCM8dGf5SpRp9U9vHDOVVmbk1JToUcP5tXJ2v8XDywpFBZVmDrVGf72z39muTqZokUZ2aYPl179HL9WtKmvjfFbWlIRnjtvAL36Pc3aCln/J9ut/xYaN4a77oItW3yIMDIsKUSaKsyaxaqT6kGvXqG/WTRtCkuWMPLcfhwuUqzQQzTGZG959QZ0vfYFRrfqxZHgWsPhwzByJNSpA//+N+zY4UeIBcr6FCLlyBFu73k/N38zlcab14XcZWeJ43i2bX8mnnkxaQHryRpjolP9rSk8MnssrX5fE3qHMmWcWQjuuivLjKzRJKc+BUsKBSBwhtKUu8+GN96AMWNg/fqQ+6dJElMad+KZdgPZXvr4QorSGFMgVLnkx6+498vXqb57a+h9ihWDK6+EW24hefrfGR3SKcO6FmKg2cspKRQt7GDiUZGjabRJWcHl330BIxY6ncnZmFm/Dc+d2591lWoWYoTGmAIjwoyG5zG7biv6rviU2xZOodK+oGGqhw/DxIkwcSKzKp3MlCYX8nHD8/yJN4+sppBfR47AggXwwQdsfe0tKu/bke2uRxFm123Ji617s6bqqYUXozEm4kof2s81yz7mXz/OyrHDOU2SKNKpI1x1FXTrBlWqFGKUXtZ8VFC2bIHPP3eubJwxA7Zvz3H3g0WK8mGj83nl7MtYV9FqBsbEs5SHO8KECc6Q87Vrc95ZBFq3duZXuvBCOPNMSCq8cT+WFPJr40ZnKt0FC5xJs1auDOuwlPLVmNi0C+837sjf1mdgTEIRPcr6jiVg7FhnbYa0tNwPqlgR2reHc891bmec4fRLRCpGSwq5SEtzOoXXrIFVq2DZMli61EkKYdpVvDSf1m/DR406sKjW6Wjw0DVjTMLI6FDeuJHH+/2bHt/PpdGWX8M+/kDR4vxQuTarq57K1bf2gNNPd6bDKVu2QOKzpBBo9Wr49lv4+WdmTp1H7b83Unv7RkodOZjn199Rsgxz6pzFZ3XPYW6dFhwsWjzPz2GMSQx1t25g9sl/OfOdLV+evyepVctZUrRevcxbhw5QqlSensaSQqCBA531WPNDBJo1gwsuoE9KOZbUOI0jRWwAlzEmPBk1iA0b4NNPnSm7v/ji2C56++svp/kpD2JqSKqIdAaeB4oAr6rqsAJ9gXr1wt+3RAm+rZjM4hqNWFqjEUtrNGRHqXKgwMkFGpUxJgEEXtMENUmZOtUZybhiRWb/5ddfOxNmhqNChTwnhNxEVVIQkSLAS8AFQCqwRESmq+r3BfYi2SSF7aXK8VPlk/mp0sn8UKU2q6vW5edKtawmYIyJGG+SOBXqnAp1rqHK7m003ryW0/9cR/2tKdT/6zeS/95IEQ1aBS4vX3LDFG2feGcDa1X1VwARmQxcChRcUmjcGHr2hHr1+OeKffxaoTopJ5zEttLHx+w0uMaY+LKlbEXmlK3InFNbZpSVOHKImjv+5JTtf5D890buO7UInHJKgb92VPUpiEgvoLOq3uBuDwBaqurtAfvcBNzkbtYHjmXu2krAX8dwfLSIl/MAO5doFC/nAXYu6U5W1cqhHoi2mkKor+qerKWq44BxBfJiIkuz62yJJfFyHmDnEo3i5TzAziUc0TaYPhUIvPS3BhD+xQLGGGOOSbQlhSVAXRGpLSLFgd7AdJ9jMsaYhBFVzUeqekREbgf+izMkdbyqfhfBlyyQZqgoEC/nAXYu0ShezgPsXHIVVR3Nxhhj/BVtzUfGGGN8ZEnBGGNMhoRICiJSU0S+FJEfROQ7ERnsllcQkdki8ov78wS/Y82NiJQUkcUistI9l0fc8pg7F3CuYheR5SIyw92O1fNIEZHVIrJCRJa6ZbF6LuVF5H0R+dH9nzknFs9FROq7f4/02y4RuTNGz+Uu9/99jYhMcj8HInIeCZEUgCPA3araEGgF3CYipwFDgTmqWheY425Hu4PA+ap6BtAU6CwirYjNcwEYDPwQsB2r5wHQQVWbBowdj9VzeR6YpaoNgDNw/j4xdy6q+pP792gKNAf2AR8SY+ciItWBO4AWqno6ziCc3kTqPFQ14W7ANJz5lX4Cqrll1YCf/I4tj+dRGvgWaBmL54JzHcoc4HxghlsWc+fhxpoCVAoqi7lzAcoB63EHocTyuQTFfyHwdSyeC1Ad+B2ogDNidIZ7PhE5j0SpKWQQkWTgTOAb4ERV3QTg/vRv0dQ8cJtcVgBbgNmqGqvnMhL4FxA4y1csngc4V95/JiLL3KlYIDbP5RRgK/C626z3qogcR2yeS6DewCT3fkydi6r+AQwHfgM2ATtV9TMidB4JlRREpAwwFbhTVXf5HU9+qWqaOlXiGsDZInK6zyHlmYhcAmxR1WV+x1JA2qhqM6ALTvPkeX4HlE9FgWbAGFU9E9hLlDev5Ma9ELY78J7fseSH21dwKVAbOAk4TkT6R+r1EiYpiEgxnIQwUVU/cIs3i0g19/FqON+8Y4aq7gDmAp2JvXNpA3QXkRRgMnC+iLxN7J0HAKq60f25Bafd+mxi81xSgVS39gnwPk6SiMVzSdcF+FZVN7vbsXYunYD1qrpVVQ8DHwCtidB5JERSEBEBXgN+UNXnAh6aDgx07w/E6WuIaiJSWUTKu/dL4bxhfiTGzkVV71XVGqqajFO1/0JV+xNj5wEgIseJSNn0+zjtvWuIwXNR1T+B30WkvlvUEWfq+pg7lwB9yGw6gtg7l9+AViJS2v0s64jT+R+R80iIK5pF5FzgK2A1me3X9+H0K0wBauH84q9Q1e2+BBkmEWkCTMAZgZAETFHVR0WkIjF2LulEpD1wj6peEovnISKn4NQOwGl+eUdVH4/FcwEQkabAq0Bx4FfgWtz3GrF3LqVxOmlPUdWdblnM/V3coedX4YykXA7cAJQhAueREEnBGGNMeBKi+cgYY0x4LCkYY4zJYEnBGGNMBksKxhhjMlhSMMYYk8GSgok7IpIWNDtmgV6RKyLtRaR1HvZPFpH9bizfi8ib7sWUxkSdqFqO05gCst+dBiRS2gN7gP/l4Zh1qtpURIoAs4ErgYkRiM2YY2I1BZMQRKSLiEwJ2G4vIh+79y8UkYUi8q2IvOfOkZW+RsIjbvlqEWngTqg4CLjL/ebfVkSucOe5Xyki83OKQ1XTgMU4M18iIt1E5Bt38rnPReREt/xhERkvInNF5FcRuSMg9n+Ls9bBbHdu/Xvc8joiMsudlO8rEWlQoL9EkxAsKZh4VCqo+egqnG/nrdxpKMC5OvRdEakEPAB0cie0Wwr8I+C5/nLLx+BcdZ0CjAVGqDNX/1fAg8BF6qxx0T2nwESkJM5U57PcogVAK3fyuck4s8amawBchDOP0kMiUkxEWgA9cWb6vRxoEbD/OOD/VLU5cA8wOqzfljEBrPnIxKOQzUciMgvoJiLvA11xPoDbAacBXzvTylAcWBhwWPrkictwPoRD+Rp4w62JfJDNPnXc6c7rAu+r6iq3vAZOcqrmvvb6gGNmqupB4KCIbAFOBM4Fpqnqfvec0ms7ZXAmSXvPPQ+AEtnEYky2LCmYRPIucBuwHViiqrvdCcZmq2qfbI456P5MI5v/F1UdJCItcRLNChFpqqrbgnZL71OoBswVke6qOh14EXhOVae7c0A9HOK1A19fCC0J2BHhvhSTAKz5yCSSuTjTQN+IkyAAFgFtRORUcCZQE5F6uTzPbqBs+oaI1FHVb1T1QeAvoGZ2B7qLoQwF7nWLjgf+cO8PDHmQ1wKc2k5Jt3bQ1X3eXcB6EbnCjUlE5Iwwns8YD0sKJh4F9ykMg4xO3hk48+vPcMu2AtcAk0RkFU6SyK2D9mPgsvSOZuAZtyN6DTAfWJnL8R8Bpd1jH8Zp8vkKJ6HkSFWX4EyZvBKnqWopsNN9uB9wvYisBL7DWZjFmDyxWVKNiTEiUkZV97jTQs8HblLVb/2Oy8QH61MwJvaME5HTgJLABEsIpiBZTcEYY0wG61MwxhiTwZKCMcaYDJYUjDHGZLCkYIwxJoMlBWOMMRn+HwHaI5GrcYgEAAAAAElFTkSuQmCC\n",
      "text/plain": [
       "<Figure size 432x288 with 1 Axes>"
      ]
     },
     "metadata": {
      "needs_background": "light"
     },
     "output_type": "display_data"
    }
   ],
   "source": [
    "PDF = [norm.pdf(x, loc = center, scale = sdev) for x in binRange]    # Create a PDF for the normal distribution \n",
    "\n",
    "size = np.array(yMax/np.amax(PDF))                          # initalize the scale of the PDF \n",
    "PDF = PDF * size                                           # Make the size of the pdf match the histogram\n",
    "\n",
    "plt.plot(binRange, PDF, 'r-', label = 'pdf',lw= '4')   #plot the pdf, using a red line of width '4'\n",
    "\n",
    "#plot the distribution with the pdf overlay\n",
    "plt.hist(points,binRange, label = 'Histogram ')\n",
    "plt.title('Events Distribution With PDF Overlay') #headings\n",
    "plt.ylabel('Number of Events per Bin')\n",
    "plt.xlabel('Events Range')\n",
    "plt.legend() #add the legend to the plot\n",
    "plt.show()"
   ]
  },
  {
   "cell_type": "code",
   "execution_count": 12,
   "metadata": {},
   "outputs": [],
   "source": [
    "# All code was written by Nathan Pacey\n",
   
   ]
  }
 ],
 "metadata": {
  "kernelspec": {
   "display_name": "Python 3",
   "language": "python",
   "name": "python3"
  },
  "language_info": {
   "codemirror_mode": {
    "name": "ipython",
    "version": 3
   },
   "file_extension": ".py",
   "mimetype": "text/x-python",
   "name": "python",
   "nbconvert_exporter": "python",
   "pygments_lexer": "ipython3",
   "version": "3.7.6"
  }
 },
 "nbformat": 4,
 "nbformat_minor": 4
}
